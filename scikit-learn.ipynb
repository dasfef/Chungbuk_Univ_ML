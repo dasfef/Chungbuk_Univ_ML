{
 "cells": [
  {
   "cell_type": "code",
   "execution_count": 1,
   "id": "5e7afe4f",
   "metadata": {},
   "outputs": [],
   "source": [
    "import numpy as np\n",
    "from sklearn import linear_model\n",
    "\n",
    "regr = linear_model.LinearRegression()"
   ]
  },
  {
   "cell_type": "code",
   "execution_count": 2,
   "id": "72123906",
   "metadata": {},
   "outputs": [
    {
     "data": {
      "text/plain": [
       "LinearRegression()"
      ]
     },
     "execution_count": 2,
     "metadata": {},
     "output_type": "execute_result"
    }
   ],
   "source": [
    "X = [[163], [179], [166], [169], [171]]\n",
    "y = [54, 63, 57, 56, 58]\n",
    "regr.fit(X, y)"
   ]
  },
  {
   "cell_type": "code",
   "execution_count": 3,
   "id": "fa40cfe9",
   "metadata": {},
   "outputs": [],
   "source": [
    "coef = regr.coef_\n",
    "intercept = regr.intercept_\n",
    "score = regr.score(X, y)"
   ]
  },
  {
   "cell_type": "code",
   "execution_count": 4,
   "id": "851fc586",
   "metadata": {},
   "outputs": [
    {
     "name": "stdout",
     "output_type": "stream",
     "text": [
      "y = [0.53]* X + -32.50\n",
      "데이터와 선형 회귀 직선의 관계점수 : 91.9%\n"
     ]
    }
   ],
   "source": [
    "print(\"y = {}* X + {:.2f}\".format(coef.round(2), intercept))\n",
    "print(\"데이터와 선형 회귀 직선의 관계점수 : {:.1%}\".format(score))"
   ]
  },
  {
   "cell_type": "code",
   "execution_count": 6,
   "id": "30f6668b",
   "metadata": {},
   "outputs": [
    {
     "data": {
      "text/plain": [
       "[<matplotlib.lines.Line2D at 0x1fb4901ceb0>]"
      ]
     },
     "execution_count": 6,
     "metadata": {},
     "output_type": "execute_result"
    },
    {
     "data": {
      "image/png": "[encoded data removed]",
      "text/plain": [
       "<Figure size 640x480 with 1 Axes>"
      ]
     },
     "metadata": {},
     "output_type": "display_data"
    }
   ],
   "source": [
    "import matplotlib.pyplot as plt\n",
    "\n",
    "plt.scatter(X, y, color = 'blue', marker = 'D')\n",
    "y_pred = regr.predict(X)\n",
    "\n",
    "plt.plot(X, y_pred, 'r:')"
   ]
  },
  {
   "cell_type": "code",
   "execution_count": 8,
   "id": "c51cea37",
   "metadata": {},
   "outputs": [
    {
     "name": "stdout",
     "output_type": "stream",
     "text": [
      "동윤이의 키가 [[167]]cm 이므로 몸무게는 [56.2]kg으로 추정됨\n"
     ]
    }
   ],
   "source": [
    "unseen = [[167]]\n",
    "result = regr.predict(unseen)\n",
    "print(f\"동윤이의 키가 {unseen}cm 이므로 몸무게는 \\\n",
    "{result.round(1)}kg으로 추정됨\")"
   ]
  },
  {
   "cell_type": "code",
   "execution_count": 9,
   "id": "39ca6a39",
   "metadata": {},
   "outputs": [],
   "source": [
    "regr = linear_model.LinearRegression()\n",
    "X = [[168, 0], [166, 0], [173, 0], [165, 0], [177, 0], [163, 0],\\\n",
    "    [178, 0], [172, 0], [163, 1], [162, 1], [171, 1], [162, 1], \\\n",
    "    [164, 1], [162, 1], [158, 1], [173, 1]]\n",
    "y = [65, 61, 68, 63, 68, 61, 76, 67, 55, 51, 59, 53, 61, 56, 44, 57]"
   ]
  },
  {
   "cell_type": "code",
   "execution_count": 10,
   "id": "ea92c7c0",
   "metadata": {},
   "outputs": [
    {
     "data": {
      "text/plain": [
       "LinearRegression()"
      ]
     },
     "execution_count": 10,
     "metadata": {},
     "output_type": "execute_result"
    }
   ],
   "source": [
    "regr.fit(X, y)"
   ]
  },
  {
   "cell_type": "code",
   "execution_count": 11,
   "id": "273d7e08",
   "metadata": {},
   "outputs": [
    {
     "name": "stdout",
     "output_type": "stream",
     "text": [
      "계수 :  [ 0.74803397 -7.23030041]\n",
      "절편 :  -61.227783894306384\n",
      "점수 :  0.8425933302504424\n",
      "동윤이와 은지의 추정 몸무게 :  [63.69388959 56.46358918]\n"
     ]
    }
   ],
   "source": [
    "print(\"계수 : \", regr.coef_)\n",
    "print(\"절편 : \", regr.intercept_)\n",
    "print(\"점수 : \", regr.score(X, y))\n",
    "print(\"동윤이와 은지의 추정 몸무게 : \", regr.predict([[167, 0], [167, 1]]))"
   ]
  },
  {
   "cell_type": "code",
   "execution_count": 13,
   "id": "95103cd9",
   "metadata": {},
   "outputs": [
    {
     "name": "stdout",
     "output_type": "stream",
     "text": [
      "[ 1.   4.5  9.  10.  13. ]\n",
      "[0.  0.2 2.5 5.4 7.3]\n"
     ]
    }
   ],
   "source": [
    "x = np.array([1, 4.5, 9, 10, 13])\n",
    "y = np.array([0, 0.2, 2.5, 5.4, 7.3])\n",
    "\n",
    "print(x)\n",
    "print(y)"
   ]
  },
  {
   "cell_type": "code",
   "execution_count": 15,
   "id": "92383190",
   "metadata": {},
   "outputs": [
    {
     "name": "stdout",
     "output_type": "stream",
     "text": [
      "[[ 1. ]\n",
      " [ 4.5]\n",
      " [ 9. ]\n",
      " [10. ]\n",
      " [13. ]]\n"
     ]
    },
    {
     "data": {
      "text/plain": [
       "LinearRegression()"
      ]
     },
     "execution_count": 15,
     "metadata": {},
     "output_type": "execute_result"
    }
   ],
   "source": [
    "regr = linear_model.LinearRegression()\n",
    "\n",
    "x = x[:, np.newaxis]\n",
    "print(x)\n",
    "regr.fit(x, y)"
   ]
  },
  {
   "cell_type": "code",
   "execution_count": 17,
   "id": "9c57efdc",
   "metadata": {},
   "outputs": [
    {
     "name": "stdout",
     "output_type": "stream",
     "text": [
      "w =  [0.63] / b =  -1.65\n"
     ]
    }
   ],
   "source": [
    "print(\"w = \", regr.coef_.round(2), \\\n",
    "     \"/ b = \", regr.intercept_.round(2))"
   ]
  }
 ],
 "metadata": {
  "kernelspec": {
   "display_name": "Python 3 (ipykernel)",
   "language": "python",
   "name": "python3"
  },
  "language_info": {
   "codemirror_mode": {
    "name": "ipython",
    "version": 3
   },
   "file_extension": ".py",
   "mimetype": "text/x-python",
   "name": "python",
   "nbconvert_exporter": "python",
   "pygments_lexer": "ipython3",
   "version": "3.9.13"
  }
 },
 "nbformat": 4,
 "nbformat_minor": 5
}
