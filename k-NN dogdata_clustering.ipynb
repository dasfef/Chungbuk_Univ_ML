{
 "cells": [
  {
   "cell_type": "raw",
   "id": "842afbd2",
   "metadata": {},
   "source": [
    "#유클리디안 거리"
   ]
  },
  {
   "cell_type": "code",
   "execution_count": 1,
   "id": "7ee75140",
   "metadata": {},
   "outputs": [],
   "source": [
    "import matplotlib.pyplot as plt"
   ]
  },
  {
   "cell_type": "code",
   "execution_count": 2,
   "id": "3d908f20",
   "metadata": {},
   "outputs": [],
   "source": [
    "# 닥스훈트의 길이와 높이 데이터\n",
    "dach_length = [55, 57, 64, 63, 58, 49, 54, 61]\n",
    "dach_height = [30, 31, 36, 30, 33, 25, 37, 34]\n",
    "\n",
    "# 진돗개의 길이와 높이 데이터\n",
    "jin_length = [56, 47, 56, 46, 49, 53, 52, 48]\n",
    "jin_height = [52, 52, 50, 53, 50, 53, 49, 54]"
   ]
  },
  {
   "cell_type": "code",
   "execution_count": 3,
   "id": "5fd7cdac",
   "metadata": {
    "scrolled": true
   },
   "outputs": [
    {
     "data": {
      "text/plain": [
       "<matplotlib.legend.Legend at 0x2491a0ff370>"
      ]
     },
     "execution_count": 3,
     "metadata": {},
     "output_type": "execute_result"
    },
    {
     "data": {
      "image/png": "[encoded data removed]",
      "text/plain": [
       "<Figure size 640x480 with 1 Axes>"
      ]
     },
     "metadata": {},
     "output_type": "display_data"
    }
   ],
   "source": [
    "plt.scatter(dach_length, dach_height, c = 'r', label = 'Dachshund')\n",
    "plt.scatter(jin_length, jin_height, c = 'b', marker = '^', label = 'Jindo dog')\n",
    "\n",
    "plt.xlabel('Length')\n",
    "plt.ylabel('Height')\n",
    "plt.title(\"Dog Size\")\n",
    "plt.legend(loc = 'upper right')"
   ]
  },
  {
   "cell_type": "code",
   "execution_count": 6,
   "id": "513c6f56",
   "metadata": {},
   "outputs": [
    {
     "name": "stdout",
     "output_type": "stream",
     "text": [
      "[[55 30]\n",
      " [57 31]\n",
      " [64 36]\n",
      " [63 30]\n",
      " [58 33]\n",
      " [49 25]\n",
      " [54 37]\n",
      " [61 34]]\n",
      "[0. 0. 0. 0. 0. 0. 0. 0.]\n",
      "[[56 52]\n",
      " [47 52]\n",
      " [56 50]\n",
      " [46 53]\n",
      " [49 50]\n",
      " [53 53]\n",
      " [52 49]\n",
      " [48 54]]\n",
      "[1. 1. 1. 1. 1. 1. 1. 1.]\n"
     ]
    }
   ],
   "source": [
    "import numpy as np\n",
    "\n",
    "d_data = np.column_stack((dach_length, dach_height))\n",
    "d_label = np.zeros(len(d_data))\n",
    "print(d_data)\n",
    "print(d_label)\n",
    "\n",
    "j_data = np.column_stack((jin_length, jin_height))\n",
    "j_label = np.ones(len(j_data))\n",
    "print(j_data)\n",
    "print(j_label)"
   ]
  },
  {
   "cell_type": "code",
   "execution_count": 7,
   "id": "50082220",
   "metadata": {},
   "outputs": [],
   "source": [
    "newdata = [[59, 35]]"
   ]
  },
  {
   "cell_type": "code",
   "execution_count": 10,
   "id": "e22c01c7",
   "metadata": {},
   "outputs": [
    {
     "name": "stdout",
     "output_type": "stream",
     "text": [
      "[[55 30]\n",
      " [57 31]\n",
      " [64 36]\n",
      " [63 30]\n",
      " [58 33]\n",
      " [49 25]\n",
      " [54 37]\n",
      " [61 34]\n",
      " [56 52]\n",
      " [47 52]\n",
      " [56 50]\n",
      " [46 53]\n",
      " [49 50]\n",
      " [53 53]\n",
      " [52 49]\n",
      " [48 54]]\n",
      "[0. 0. 0. 0. 0. 0. 0. 0. 1. 1. 1. 1. 1. 1. 1. 1.]\n"
     ]
    }
   ],
   "source": [
    "dogs = np.concatenate((d_data, j_data))\n",
    "labels = np.concatenate((d_label, j_label))\n",
    "print(dogs)\n",
    "print(labels)"
   ]
  },
  {
   "cell_type": "code",
   "execution_count": 13,
   "id": "55420d76",
   "metadata": {},
   "outputs": [
    {
     "name": "stdout",
     "output_type": "stream",
     "text": [
      "[0.]\n",
      "데이터 [[59, 35]] 판정 결과 :  닥스훈트\n"
     ]
    },
    {
     "name": "stderr",
     "output_type": "stream",
     "text": [
      "C:\\Users\\User\\anaconda3\\lib\\site-packages\\sklearn\\neighbors\\_classification.py:228: FutureWarning: Unlike other reduction functions (e.g. `skew`, `kurtosis`), the default behavior of `mode` typically preserves the axis it acts along. In SciPy 1.11.0, this behavior will change: the default value of `keepdims` will become False, the `axis` over which the statistic is taken will be eliminated, and the value None will no longer be accepted. Set `keepdims` to True or False to avoid this warning.\n",
      "  mode, _ = stats.mode(_y[neigh_ind, k], axis=1)\n"
     ]
    }
   ],
   "source": [
    "from sklearn.neighbors import KNeighborsClassifier\n",
    "# from sklearn import metrics\n",
    "\n",
    "dog_classes = {0:'닥스훈트', 1:'진돗개'}\n",
    "\n",
    "k = 3\n",
    "knn = KNeighborsClassifier(n_neighbors = k)\n",
    "knn.fit(dogs, labels)\n",
    "y_pred = knn.predict(newdata)\n",
    "print(y_pred)\n",
    "print(\"데이터\", newdata, \"판정 결과 : \", dog_classes[y_pred[0]])"
   ]
  }
 ],
 "metadata": {
  "kernelspec": {
   "display_name": "Python 3 (ipykernel)",
   "language": "python",
   "name": "python3"
  },
  "language_info": {
   "codemirror_mode": {
    "name": "ipython",
    "version": 3
   },
   "file_extension": ".py",
   "mimetype": "text/x-python",
   "name": "python",
   "nbconvert_exporter": "python",
   "pygments_lexer": "ipython3",
   "version": "3.9.13"
  }
 },
 "nbformat": 4,
 "nbformat_minor": 5
}
